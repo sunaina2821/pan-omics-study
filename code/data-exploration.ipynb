{
 "cells": [
  {
   "cell_type": "markdown",
   "metadata": {},
   "source": [
    "This notebook produces analysis of common genes between Alzheimer's and Parkinson's. In addition, various attempts at exploration between the two diseases are made based on the processed datasets of Harmonizome."
   ]
  },
  {
   "cell_type": "code",
   "execution_count": 1,
   "metadata": {},
   "outputs": [],
   "source": [
    "import pandas as pd"
   ]
  },
  {
   "cell_type": "markdown",
   "metadata": {},
   "source": [
    "DIGINET is a database that has all the annotations between various genes and diseases through literature text mining. List of the externally validated genes are:"
   ]
  },
  {
   "cell_type": "code",
   "execution_count": 2,
   "metadata": {},
   "outputs": [
    {
     "data": {
      "text/plain": [
       "1966"
      ]
     },
     "execution_count": 2,
     "metadata": {},
     "output_type": "execute_result"
    }
   ],
   "source": [
    "diginet_ = pd.read_csv(\"E:/shortlisted-diseases Maayan lab/genomics-gwas/parkinson-genes-GWAS_DIGINET.csv\")\n",
    "list_of_validated_genes = list(diginet_['Gene'])\n",
    "len(list_of_validated_genes)"
   ]
  },
  {
   "cell_type": "markdown",
   "metadata": {},
   "source": [
    "Harmonizome has another dataset which consists of only GWAS based disease studies and collects gene-disease associations where the normalized value refers to how much a gene has been associated with the disease in a population."
   ]
  },
  {
   "cell_type": "code",
   "execution_count": 2,
   "metadata": {},
   "outputs": [
    {
     "data": {
      "text/html": [
       "<div>\n",
       "<style scoped>\n",
       "    .dataframe tbody tr th:only-of-type {\n",
       "        vertical-align: middle;\n",
       "    }\n",
       "\n",
       "    .dataframe tbody tr th {\n",
       "        vertical-align: top;\n",
       "    }\n",
       "\n",
       "    .dataframe thead th {\n",
       "        text-align: right;\n",
       "    }\n",
       "</style>\n",
       "<table border=\"1\" class=\"dataframe\">\n",
       "  <thead>\n",
       "    <tr style=\"text-align: right;\">\n",
       "      <th></th>\n",
       "      <th>Unnamed: 0</th>\n",
       "      <th>Gene</th>\n",
       "      <th>std_values</th>\n",
       "    </tr>\n",
       "  </thead>\n",
       "  <tbody>\n",
       "    <tr>\n",
       "      <th>0</th>\n",
       "      <td>0</td>\n",
       "      <td>EDN3</td>\n",
       "      <td>0.197766</td>\n",
       "    </tr>\n",
       "    <tr>\n",
       "      <th>1</th>\n",
       "      <td>1</td>\n",
       "      <td>LSP1</td>\n",
       "      <td>0.724323</td>\n",
       "    </tr>\n",
       "    <tr>\n",
       "      <th>2</th>\n",
       "      <td>2</td>\n",
       "      <td>FIBP</td>\n",
       "      <td>0.682635</td>\n",
       "    </tr>\n",
       "    <tr>\n",
       "      <th>3</th>\n",
       "      <td>3</td>\n",
       "      <td>AKAP11</td>\n",
       "      <td>0.661797</td>\n",
       "    </tr>\n",
       "    <tr>\n",
       "      <th>4</th>\n",
       "      <td>4</td>\n",
       "      <td>IL17REL</td>\n",
       "      <td>0.368757</td>\n",
       "    </tr>\n",
       "    <tr>\n",
       "      <th>...</th>\n",
       "      <td>...</td>\n",
       "      <td>...</td>\n",
       "      <td>...</td>\n",
       "    </tr>\n",
       "    <tr>\n",
       "      <th>316</th>\n",
       "      <td>316</td>\n",
       "      <td>HOXA13</td>\n",
       "      <td>0.486425</td>\n",
       "    </tr>\n",
       "    <tr>\n",
       "      <th>317</th>\n",
       "      <td>317</td>\n",
       "      <td>AUH</td>\n",
       "      <td>0.572184</td>\n",
       "    </tr>\n",
       "    <tr>\n",
       "      <th>318</th>\n",
       "      <td>318</td>\n",
       "      <td>RSPO2</td>\n",
       "      <td>0.157710</td>\n",
       "    </tr>\n",
       "    <tr>\n",
       "      <th>319</th>\n",
       "      <td>319</td>\n",
       "      <td>PHOX2B</td>\n",
       "      <td>0.368757</td>\n",
       "    </tr>\n",
       "    <tr>\n",
       "      <th>320</th>\n",
       "      <td>320</td>\n",
       "      <td>RASGRP1</td>\n",
       "      <td>0.572184</td>\n",
       "    </tr>\n",
       "  </tbody>\n",
       "</table>\n",
       "<p>321 rows × 3 columns</p>\n",
       "</div>"
      ],
      "text/plain": [
       "     Unnamed: 0     Gene  std_values\n",
       "0             0     EDN3    0.197766\n",
       "1             1     LSP1    0.724323\n",
       "2             2     FIBP    0.682635\n",
       "3             3   AKAP11    0.661797\n",
       "4             4  IL17REL    0.368757\n",
       "..          ...      ...         ...\n",
       "316         316   HOXA13    0.486425\n",
       "317         317      AUH    0.572184\n",
       "318         318    RSPO2    0.157710\n",
       "319         319   PHOX2B    0.368757\n",
       "320         320  RASGRP1    0.572184\n",
       "\n",
       "[321 rows x 3 columns]"
      ]
     },
     "execution_count": 2,
     "metadata": {},
     "output_type": "execute_result"
    }
   ],
   "source": [
    "gwas_collected_genes = pd.read_csv(\"E:\\shortlisted-diseases Maayan lab\\genomics-gwas\\ibd-genes.csv\")\n",
    "list_gwas = gwas_collected_genes['Gene']\n",
    "len(list_gwas)\n",
    "\n",
    "\n",
    "gwas_collected_genes"
   ]
  },
  {
   "cell_type": "markdown",
   "metadata": {},
   "source": [
    "Calculating the number of genes present in the GWAS dataset that have been externally implicated as well in DIGINET:"
   ]
  },
  {
   "cell_type": "code",
   "execution_count": 68,
   "metadata": {},
   "outputs": [
    {
     "data": {
      "text/plain": [
       "435"
      ]
     },
     "execution_count": 68,
     "metadata": {},
     "output_type": "execute_result"
    }
   ],
   "source": [
    "sum = 0\n",
    "validated_genes_through_GWAS = []\n",
    "for gene in list_of_validated_genes:\n",
    "    if gene in list(list_gwas):\n",
    "        validated_genes_through_GWAS.append(gene)\n",
    "\n",
    "len(validated_genes_through_GWAS)"
   ]
  },
  {
   "cell_type": "markdown",
   "metadata": {},
   "source": [
    "To explore how the distribution of these processed values look like, we generate a histogram plot. As we can see, most of the genes show a normalized variant value of 0.5 whereas a very low number of genes show a high number. "
   ]
  },
  {
   "cell_type": "code",
   "execution_count": 20,
   "metadata": {},
   "outputs": [
    {
     "name": "stdout",
     "output_type": "stream",
     "text": [
      "     Unnamed: 0     Gene  std_values\n",
      "0             0     EDN3    0.197766\n",
      "1             1     LSP1    0.724323\n",
      "2             2     FIBP    0.682635\n",
      "3             3   AKAP11    0.661797\n",
      "4             4  IL17REL    0.368757\n",
      "..          ...      ...         ...\n",
      "316         316   HOXA13    0.486425\n",
      "317         317      AUH    0.572184\n",
      "318         318    RSPO2    0.157710\n",
      "319         319   PHOX2B    0.368757\n",
      "320         320  RASGRP1    0.572184\n",
      "\n",
      "[321 rows x 3 columns]\n"
     ]
    },
    {
     "data": {
      "text/plain": [
       "<Axes: ylabel='Count'>"
      ]
     },
     "execution_count": 20,
     "metadata": {},
     "output_type": "execute_result"
    },
    {
     "data": {
      "image/png": "[encoded data removed]",
      "text/plain": [
       "<Figure size 432x288 with 1 Axes>"
      ]
     },
     "metadata": {
      "needs_background": "light"
     },
     "output_type": "display_data"
    }
   ],
   "source": [
    "gwas_collected_genes\n",
    "import seaborn as sns\n",
    "print(gwas_collected_genes)\n",
    "sns.histplot(gwas_collected_genes[['Gene', 'std_values']])"
   ]
  },
  {
   "cell_type": "code",
   "execution_count": 49,
   "metadata": {},
   "outputs": [
    {
     "data": {
      "text/html": [
       "<div>\n",
       "<style scoped>\n",
       "    .dataframe tbody tr th:only-of-type {\n",
       "        vertical-align: middle;\n",
       "    }\n",
       "\n",
       "    .dataframe tbody tr th {\n",
       "        vertical-align: top;\n",
       "    }\n",
       "\n",
       "    .dataframe thead th {\n",
       "        text-align: right;\n",
       "    }\n",
       "</style>\n",
       "<table border=\"1\" class=\"dataframe\">\n",
       "  <thead>\n",
       "    <tr style=\"text-align: right;\">\n",
       "      <th></th>\n",
       "      <th>Unnamed: 0</th>\n",
       "      <th>Gene</th>\n",
       "      <th>std_values</th>\n",
       "    </tr>\n",
       "  </thead>\n",
       "  <tbody>\n",
       "    <tr>\n",
       "      <th>0</th>\n",
       "      <td>0</td>\n",
       "      <td>OR7G1</td>\n",
       "      <td>0.889594</td>\n",
       "    </tr>\n",
       "    <tr>\n",
       "      <th>1</th>\n",
       "      <td>1</td>\n",
       "      <td>TKT</td>\n",
       "      <td>0.784108</td>\n",
       "    </tr>\n",
       "    <tr>\n",
       "      <th>2</th>\n",
       "      <td>2</td>\n",
       "      <td>FBN2</td>\n",
       "      <td>1.075990</td>\n",
       "    </tr>\n",
       "    <tr>\n",
       "      <th>3</th>\n",
       "      <td>3</td>\n",
       "      <td>PANK4</td>\n",
       "      <td>1.048460</td>\n",
       "    </tr>\n",
       "    <tr>\n",
       "      <th>4</th>\n",
       "      <td>4</td>\n",
       "      <td>APOE</td>\n",
       "      <td>2.646110</td>\n",
       "    </tr>\n",
       "    <tr>\n",
       "      <th>...</th>\n",
       "      <td>...</td>\n",
       "      <td>...</td>\n",
       "      <td>...</td>\n",
       "    </tr>\n",
       "    <tr>\n",
       "      <th>2071</th>\n",
       "      <td>2071</td>\n",
       "      <td>CEP128</td>\n",
       "      <td>0.789545</td>\n",
       "    </tr>\n",
       "    <tr>\n",
       "      <th>2072</th>\n",
       "      <td>2072</td>\n",
       "      <td>EHF</td>\n",
       "      <td>1.075990</td>\n",
       "    </tr>\n",
       "    <tr>\n",
       "      <th>2073</th>\n",
       "      <td>2073</td>\n",
       "      <td>PODXL</td>\n",
       "      <td>0.830304</td>\n",
       "    </tr>\n",
       "    <tr>\n",
       "      <th>2074</th>\n",
       "      <td>2074</td>\n",
       "      <td>SEMA5A</td>\n",
       "      <td>1.241940</td>\n",
       "    </tr>\n",
       "    <tr>\n",
       "      <th>2075</th>\n",
       "      <td>2075</td>\n",
       "      <td>DIO1</td>\n",
       "      <td>0.931030</td>\n",
       "    </tr>\n",
       "  </tbody>\n",
       "</table>\n",
       "<p>2076 rows × 3 columns</p>\n",
       "</div>"
      ],
      "text/plain": [
       "      Unnamed: 0    Gene  std_values\n",
       "0              0   OR7G1    0.889594\n",
       "1              1     TKT    0.784108\n",
       "2              2    FBN2    1.075990\n",
       "3              3   PANK4    1.048460\n",
       "4              4    APOE    2.646110\n",
       "...          ...     ...         ...\n",
       "2071        2071  CEP128    0.789545\n",
       "2072        2072     EHF    1.075990\n",
       "2073        2073   PODXL    0.830304\n",
       "2074        2074  SEMA5A    1.241940\n",
       "2075        2075    DIO1    0.931030\n",
       "\n",
       "[2076 rows x 3 columns]"
      ]
     },
     "execution_count": 49,
     "metadata": {},
     "output_type": "execute_result"
    }
   ],
   "source": [
    "gwas_collected_genes_alz = pd.read_csv(\"E:\\shortlisted-diseases Maayan lab\\genomics-gwas\\obesity_revised.csv\")\n",
    "gwas_collected_genes_alz"
   ]
  },
  {
   "cell_type": "code",
   "execution_count": 50,
   "metadata": {},
   "outputs": [
    {
     "data": {
      "text/html": [
       "<div>\n",
       "<style scoped>\n",
       "    .dataframe tbody tr th:only-of-type {\n",
       "        vertical-align: middle;\n",
       "    }\n",
       "\n",
       "    .dataframe tbody tr th {\n",
       "        vertical-align: top;\n",
       "    }\n",
       "\n",
       "    .dataframe thead th {\n",
       "        text-align: right;\n",
       "    }\n",
       "</style>\n",
       "<table border=\"1\" class=\"dataframe\">\n",
       "  <thead>\n",
       "    <tr style=\"text-align: right;\">\n",
       "      <th></th>\n",
       "      <th>Gene</th>\n",
       "      <th>std_values_x</th>\n",
       "      <th>std_values_y</th>\n",
       "    </tr>\n",
       "  </thead>\n",
       "  <tbody>\n",
       "    <tr>\n",
       "      <th>0</th>\n",
       "      <td>SPOCK1</td>\n",
       "      <td>1.242890</td>\n",
       "      <td>1.242890</td>\n",
       "    </tr>\n",
       "    <tr>\n",
       "      <th>1</th>\n",
       "      <td>TMEM181</td>\n",
       "      <td>0.680104</td>\n",
       "      <td>0.680104</td>\n",
       "    </tr>\n",
       "    <tr>\n",
       "      <th>2</th>\n",
       "      <td>GRIA3</td>\n",
       "      <td>0.759585</td>\n",
       "      <td>0.759585</td>\n",
       "    </tr>\n",
       "    <tr>\n",
       "      <th>3</th>\n",
       "      <td>IL7R</td>\n",
       "      <td>0.617420</td>\n",
       "      <td>0.503016</td>\n",
       "    </tr>\n",
       "    <tr>\n",
       "      <th>4</th>\n",
       "      <td>CSRNP3</td>\n",
       "      <td>0.630986</td>\n",
       "      <td>0.630986</td>\n",
       "    </tr>\n",
       "    <tr>\n",
       "      <th>...</th>\n",
       "      <td>...</td>\n",
       "      <td>...</td>\n",
       "      <td>...</td>\n",
       "    </tr>\n",
       "    <tr>\n",
       "      <th>1027</th>\n",
       "      <td>MAML3</td>\n",
       "      <td>0.811977</td>\n",
       "      <td>0.811977</td>\n",
       "    </tr>\n",
       "    <tr>\n",
       "      <th>1028</th>\n",
       "      <td>TRAPPC9</td>\n",
       "      <td>0.647686</td>\n",
       "      <td>1.107640</td>\n",
       "    </tr>\n",
       "    <tr>\n",
       "      <th>1029</th>\n",
       "      <td>EPB41L2</td>\n",
       "      <td>0.687839</td>\n",
       "      <td>0.687839</td>\n",
       "    </tr>\n",
       "    <tr>\n",
       "      <th>1030</th>\n",
       "      <td>ARHGAP26</td>\n",
       "      <td>0.920453</td>\n",
       "      <td>0.673994</td>\n",
       "    </tr>\n",
       "    <tr>\n",
       "      <th>1031</th>\n",
       "      <td>TLR7</td>\n",
       "      <td>0.601861</td>\n",
       "      <td>0.601861</td>\n",
       "    </tr>\n",
       "  </tbody>\n",
       "</table>\n",
       "<p>1032 rows × 3 columns</p>\n",
       "</div>"
      ],
      "text/plain": [
       "          Gene  std_values_x  std_values_y\n",
       "0       SPOCK1      1.242890      1.242890\n",
       "1      TMEM181      0.680104      0.680104\n",
       "2        GRIA3      0.759585      0.759585\n",
       "3         IL7R      0.617420      0.503016\n",
       "4       CSRNP3      0.630986      0.630986\n",
       "...        ...           ...           ...\n",
       "1027     MAML3      0.811977      0.811977\n",
       "1028   TRAPPC9      0.647686      1.107640\n",
       "1029   EPB41L2      0.687839      0.687839\n",
       "1030  ARHGAP26      0.920453      0.673994\n",
       "1031      TLR7      0.601861      0.601861\n",
       "\n",
       "[1032 rows x 3 columns]"
      ]
     },
     "execution_count": 50,
     "metadata": {},
     "output_type": "execute_result"
    }
   ],
   "source": [
    "gwas_t2d = pd.read_csv(\"E:/shortlisted-diseases Maayan lab/genomics-gwas/T2D_revised.csv\")\n",
    "merged = gwas_t2d.merge(gwas_collected_genes_alz, on=\"Gene\")[['Gene', 'std_values_x', 'std_values_y']]\n",
    "merged"
   ]
  },
  {
   "cell_type": "markdown",
   "metadata": {},
   "source": [
    "Some of the values were being the same in the two datasets. Thus, they were removed since the values were same and those genes were doubtful. "
   ]
  },
  {
   "cell_type": "code",
   "execution_count": 51,
   "metadata": {},
   "outputs": [],
   "source": [
    "value_list_1 = list(merged['std_values_x'])\n",
    "value_list_2 = list(merged['std_values_y'])\n",
    "genes = list(merged['Gene'])\n",
    "equal_values = []\n",
    "for x,y,z in zip(value_list_1, value_list_2, genes):\n",
    "    if x == y:\n",
    "        equal_values.append(z)\n",
    "gwas_t2d = gwas_t2d.set_index('Gene')\n",
    "gwas_ob = gwas_collected_genes_alz.set_index(\"Gene\")\n",
    "gwas_t2d = gwas_t2d.drop(equal_values)\n",
    "gwas_ob = gwas_ob.drop(equal_values)\n",
    "\n",
    "gwas_t2d.to_csv(\"E:/shortlisted-diseases Maayan lab/genomics-gwas/T2D_revised_without_any_duplicates.csv\")\n",
    "gwas_ob.to_csv(\"E:/shortlisted-diseases Maayan lab/genomics-gwas/obesity_revised_without_any_duplicates.csv\")"
   ]
  },
  {
   "cell_type": "markdown",
   "metadata": {},
   "source": [
    "Visualising the histogram plots:"
   ]
  },
  {
   "cell_type": "code",
   "execution_count": 56,
   "metadata": {},
   "outputs": [
    {
     "data": {
      "text/plain": [
       "<Axes: ylabel='Count'>"
      ]
     },
     "execution_count": 56,
     "metadata": {},
     "output_type": "execute_result"
    },
    {
     "data": {
      "image/png": "[encoded data removed]",
      "text/plain": [
       "<Figure size 432x288 with 1 Axes>"
      ]
     },
     "metadata": {
      "needs_background": "light"
     },
     "output_type": "display_data"
    }
   ],
   "source": [
    "import seaborn as sns\n",
    "gwas_t2d = pd.read_csv(\"E:/shortlisted-diseases Maayan lab/genomics-gwas/T2D_revised_without_any_duplicates.csv\")\n",
    "gwas_ob = pd.read_csv(\"E:/shortlisted-diseases Maayan lab/genomics-gwas/obesity_revised_without_any_duplicates.csv\")\n",
    "sns.histplot(gwas_ob[['Gene', 'std_values']])"
   ]
  },
  {
   "cell_type": "markdown",
   "metadata": {},
   "source": [
    "We found a higher number of genes associated with Alzheimer's as compared to Parkinson's in the literature."
   ]
  },
  {
   "cell_type": "code",
   "execution_count": 60,
   "metadata": {},
   "outputs": [
    {
     "data": {
      "text/plain": [
       "<Axes: xlabel='std_values_OBS', ylabel='std_values_T2D'>"
      ]
     },
     "execution_count": 60,
     "metadata": {},
     "output_type": "execute_result"
    },
    {
     "data": {
      "image/png": "[encoded data removed]",
      "text/plain": [
       "<Figure size 432x288 with 1 Axes>"
      ]
     },
     "metadata": {
      "needs_background": "light"
     },
     "output_type": "display_data"
    }
   ],
   "source": [
    "import matplotlib.pyplot as plt\n",
    "\n",
    "merged_df = gwas_ob.merge(gwas_t2d, how=\"inner\", on=\"Gene\")\n",
    "merged_df = merged_df[['Gene', 'std_values_x', 'std_values_y']]\n",
    "merged_df.columns = ['Gene', 'std_values_OBS', 'std_values_T2D']\n",
    "plt.xlim(0, 3.5)\n",
    "plt.ylim(0, 3.5)\n",
    "sns.scatterplot(x= merged_df['std_values_OBS'], y=merged_df['std_values_T2D'])"
   ]
  },
  {
   "cell_type": "markdown",
   "metadata": {},
   "source": [
    "Violin plots to observe the distribution shape better:"
   ]
  },
  {
   "cell_type": "code",
   "execution_count": 9,
   "metadata": {},
   "outputs": [
    {
     "data": {
      "text/plain": [
       "<Axes: xlabel='std_values_ALZ'>"
      ]
     },
     "execution_count": 9,
     "metadata": {},
     "output_type": "execute_result"
    },
    {
     "data": {
      "image/png": "[encoded data removed]",
      "text/plain": [
       "<Figure size 432x288 with 1 Axes>"
      ]
     },
     "metadata": {
      "needs_background": "light"
     },
     "output_type": "display_data"
    }
   ],
   "source": [
    "sns.violinplot(x= gwas_collected_genes_alz['std_values_ALZ'])"
   ]
  },
  {
   "cell_type": "code",
   "execution_count": 10,
   "metadata": {},
   "outputs": [
    {
     "data": {
      "text/plain": [
       "<Axes: xlabel='std_values_PARK'>"
      ]
     },
     "execution_count": 10,
     "metadata": {},
     "output_type": "execute_result"
    },
    {
     "data": {
      "image/png": "[encoded data removed]",
      "text/plain": [
       "<Figure size 432x288 with 1 Axes>"
      ]
     },
     "metadata": {
      "needs_background": "light"
     },
     "output_type": "display_data"
    }
   ],
   "source": [
    "sns.violinplot(x= gwas_collected_genes['std_values_PARK'])"
   ]
  },
  {
   "cell_type": "code",
   "execution_count": 55,
   "metadata": {},
   "outputs": [
    {
     "data": {
      "text/plain": [
       "48"
      ]
     },
     "execution_count": 55,
     "metadata": {},
     "output_type": "execute_result"
    }
   ],
   "source": [
    "validated_genes_through_GWAS_merged = []\n",
    "for gene in list_of_validated_genes: # validated genes of DIGINET of Parkinson's\n",
    "    if gene in list(merged_df.index):\n",
    "        validated_genes_through_GWAS_merged.append(gene)\n",
    "\n",
    "len(validated_genes_through_GWAS_merged)"
   ]
  },
  {
   "cell_type": "markdown",
   "metadata": {},
   "source": [
    "Performing a Rank-sum Wilcoxon statistical test for the common genes between obesity versus T2D and Parkinson's versus Alzheimer's: "
   ]
  },
  {
   "cell_type": "code",
   "execution_count": 62,
   "metadata": {},
   "outputs": [],
   "source": [
    "import scipy\n",
    "\n",
    "scipy.stats.ranksums(x= merged_df['std_values_OBS'], y=merged_df['std_values_T2D'])\n",
    "merged_df = merged_df[['Gene', 'std_values_OBS', 'std_values_T2D']]\n",
    "\n",
    "\n",
    "merged_df = merged_df.set_index('Gene')"
   ]
  },
  {
   "cell_type": "markdown",
   "metadata": {},
   "source": [
    "Heatmap showing the normalized values of genetic variants:\n",
    "\n",
    "That is, higher a value, higher its association with the disease."
   ]
  },
  {
   "cell_type": "code",
   "execution_count": 63,
   "metadata": {},
   "outputs": [
    {
     "data": {
      "image/png": "[encoded data removed]",
      "text/plain": [
       "<Figure size 720x720 with 4 Axes>"
      ]
     },
     "metadata": {
      "needs_background": "light"
     },
     "output_type": "display_data"
    }
   ],
   "source": [
    "import numpy as np\n",
    "\n",
    "h = sns.clustermap(merged_df)\n",
    "dendro = h.dendrogram_row.dendrogram\n",
    "\n",
    "D = np.array(dendro['dcoord'])\n",
    "I = np.array(dendro['icoord'])"
   ]
  },
  {
   "cell_type": "markdown",
   "metadata": {},
   "source": [
    "Ordered the dataframe using my clustermap: "
   ]
  },
  {
   "cell_type": "code",
   "execution_count": 21,
   "metadata": {},
   "outputs": [],
   "source": [
    "def extract_clustered_table(res, data):\n",
    "    \"\"\"\n",
    "    input\n",
    "    =====\n",
    "    res:     <sns.matrix.ClusterGrid>  the clustermap object\n",
    "    data:    <pd.DataFrame>            input table\n",
    "    \n",
    "    output\n",
    "    ======\n",
    "    returns: <pd.DataFrame>            reordered input table\n",
    "    \"\"\"\n",
    "    \n",
    "    # if sns.clustermap is run with row_cluster=False:\n",
    "    if res.dendrogram_row is None:\n",
    "        print(\"Apparently, rows were not clustered.\")\n",
    "        return -1\n",
    "    \n",
    "    if res.dendrogram_col is not None:\n",
    "        # reordering index and columns\n",
    "        new_cols = data.columns[res.dendrogram_col.reordered_ind]\n",
    "        new_ind = data.index[res.dendrogram_row.reordered_ind]\n",
    "        \n",
    "        return data.loc[new_ind, new_cols]\n",
    "    \n",
    "    else:\n",
    "        # reordering the index\n",
    "        new_ind = data.index[res.dendrogram_row.reordered_ind]\n",
    "\n",
    "        return data.loc[new_ind,:]"
   ]
  },
  {
   "cell_type": "code",
   "execution_count": 22,
   "metadata": {},
   "outputs": [
    {
     "ename": "NameError",
     "evalue": "name 'h' is not defined",
     "output_type": "error",
     "traceback": [
      "\u001b[1;31m---------------------------------------------------------------------------\u001b[0m",
      "\u001b[1;31mNameError\u001b[0m                                 Traceback (most recent call last)",
      "\u001b[1;32me:\\Manuscript\\data-exploration.ipynb Cell 29\u001b[0m in \u001b[0;36m<cell line: 1>\u001b[1;34m()\u001b[0m\n\u001b[1;32m----> <a href='vscode-notebook-cell:/e%3A/Manuscript/data-exploration.ipynb#X32sZmlsZQ%3D%3D?line=0'>1</a>\u001b[0m ordered \u001b[39m=\u001b[39m extract_clustered_table(h, merged_df)\n\u001b[0;32m      <a href='vscode-notebook-cell:/e%3A/Manuscript/data-exploration.ipynb#X32sZmlsZQ%3D%3D?line=1'>2</a>\u001b[0m ordered\n",
      "\u001b[1;31mNameError\u001b[0m: name 'h' is not defined"
     ]
    }
   ],
   "source": [
    "ordered = extract_clustered_table(h, merged_df)\n",
    "ordered"
   ]
  },
  {
   "cell_type": "markdown",
   "metadata": {},
   "source": [
    "Performing a Gene Set enrichment analysis test for each of the gene lists belonging to various diseases:"
   ]
  },
  {
   "cell_type": "code",
   "execution_count": 64,
   "metadata": {},
   "outputs": [
    {
     "data": {
      "text/plain": [
       "<Axes: title={'center': 'KEGG_2021_Human'}, xlabel='$- \\\\log_{10}$ (Adjusted P-value)'>"
      ]
     },
     "execution_count": 64,
     "metadata": {},
     "output_type": "execute_result"
    },
    {
     "data": {
      "image/png": "[encoded data removed]",
      "text/plain": [
       "<Figure size 288x432 with 1 Axes>"
      ]
     },
     "metadata": {
      "needs_background": "light"
     },
     "output_type": "display_data"
    }
   ],
   "source": [
    "import gseapy\n",
    "\n",
    "glist = list(gwas_ob['Gene'])\n",
    "\n",
    "enr_res = gseapy.enrichr(gene_list=glist,\n",
    "                     organism='Human',\n",
    "                     gene_sets=\"KEGG_2021_Human\")\n",
    "\n",
    "gseapy.barplot(enr_res.res2d,title='KEGG_2021_Human')\n"
   ]
  },
  {
   "cell_type": "code",
   "execution_count": 65,
   "metadata": {},
   "outputs": [
    {
     "name": "stdout",
     "output_type": "stream",
     "text": [
      "3211\n"
     ]
    },
    {
     "data": {
      "text/plain": [
       "<Axes: title={'center': 'KEGG_2021_Human'}, xlabel='$- \\\\log_{10}$ (Adjusted P-value)'>"
      ]
     },
     "execution_count": 65,
     "metadata": {},
     "output_type": "execute_result"
    },
    {
     "data": {
      "image/png": "[encoded data removed]",
      "text/plain": [
       "<Figure size 288x432 with 1 Axes>"
      ]
     },
     "metadata": {
      "needs_background": "light"
     },
     "output_type": "display_data"
    }
   ],
   "source": [
    "glist = list(gwas_t2d['Gene'])\n",
    "print(len(glist))\n",
    "enr_res = gseapy.enrichr(gene_list=glist,\n",
    "                     organism='Human',\n",
    "                     gene_sets=\"KEGG_2021_Human\")\n",
    "\n",
    "gseapy.barplot(enr_res.res2d,title='KEGG_2021_Human')"
   ]
  },
  {
   "cell_type": "code",
   "execution_count": 57,
   "metadata": {},
   "outputs": [
    {
     "name": "stdout",
     "output_type": "stream",
     "text": [
      "202\n"
     ]
    },
    {
     "data": {
      "text/plain": [
       "<Axes: title={'center': 'KEGG_2021_Human'}, xlabel='$- \\\\log_{10}$ (Adjusted P-value)'>"
      ]
     },
     "execution_count": 57,
     "metadata": {},
     "output_type": "execute_result"
    },
    {
     "data": {
      "image/png": "[encoded data removed]",
      "text/plain": [
       "<Figure size 288x432 with 1 Axes>"
      ]
     },
     "metadata": {
      "needs_background": "light"
     },
     "output_type": "display_data"
    }
   ],
   "source": [
    "glist = list(merged_df.index)\n",
    "print(len(glist))\n",
    "enr_res = gseapy.enrichr(gene_list=glist,\n",
    "                     organism='Human',\n",
    "                     gene_sets=\"KEGG_2021_Human\", cutoff=0.5)\n",
    "\n",
    "gseapy.barplot(enr_res.res2d,title= 'KEGG_2021_Human', cutoff=0.5)"
   ]
  },
  {
   "cell_type": "code",
   "execution_count": 62,
   "metadata": {},
   "outputs": [
    {
     "name": "stdout",
     "output_type": "stream",
     "text": [
      "48\n"
     ]
    },
    {
     "data": {
      "text/plain": [
       "<Axes: title={'center': 'KEGG_2021_Human'}, xlabel='$- \\\\log_{10}$ (Adjusted P-value)'>"
      ]
     },
     "execution_count": 62,
     "metadata": {},
     "output_type": "execute_result"
    },
    {
     "data": {
      "image/png": "[encoded data removed]",
      "text/plain": [
       "<Figure size 288x432 with 1 Axes>"
      ]
     },
     "metadata": {
      "needs_background": "light"
     },
     "output_type": "display_data"
    }
   ],
   "source": [
    "glist = validated_genes_through_GWAS_merged\n",
    "print(len(glist))\n",
    "\n",
    "enr_res = gseapy.enrichr(gene_list=glist,\n",
    "                     organism='Human',\n",
    "                     gene_sets=\"KEGG_2021_Human\", cutoff=0.5)\n",
    "\n",
    "gseapy.barplot(enr_res.res2d,title='KEGG_2021_Human', cutoff=0.5)"
   ]
  },
  {
   "cell_type": "markdown",
   "metadata": {},
   "source": [
    "Similar analysis for T2D, obesity and IBD"
   ]
  },
  {
   "cell_type": "code",
   "execution_count": 66,
   "metadata": {},
   "outputs": [
    {
     "data": {
      "text/html": [
       "<div>\n",
       "<style scoped>\n",
       "    .dataframe tbody tr th:only-of-type {\n",
       "        vertical-align: middle;\n",
       "    }\n",
       "\n",
       "    .dataframe tbody tr th {\n",
       "        vertical-align: top;\n",
       "    }\n",
       "\n",
       "    .dataframe thead th {\n",
       "        text-align: right;\n",
       "    }\n",
       "</style>\n",
       "<table border=\"1\" class=\"dataframe\">\n",
       "  <thead>\n",
       "    <tr style=\"text-align: right;\">\n",
       "      <th></th>\n",
       "      <th>Gene</th>\n",
       "      <th>std_values_t2d</th>\n",
       "      <th>Entrez_t2d</th>\n",
       "    </tr>\n",
       "  </thead>\n",
       "  <tbody>\n",
       "    <tr>\n",
       "      <th>0</th>\n",
       "      <td>FAM163A</td>\n",
       "      <td>0.570595</td>\n",
       "      <td>148753.0</td>\n",
       "    </tr>\n",
       "    <tr>\n",
       "      <th>1</th>\n",
       "      <td>MED27</td>\n",
       "      <td>0.938237</td>\n",
       "      <td>9442.0</td>\n",
       "    </tr>\n",
       "    <tr>\n",
       "      <th>2</th>\n",
       "      <td>TIMP2</td>\n",
       "      <td>1.877070</td>\n",
       "      <td>7077.0</td>\n",
       "    </tr>\n",
       "    <tr>\n",
       "      <th>3</th>\n",
       "      <td>NSUN2</td>\n",
       "      <td>0.532016</td>\n",
       "      <td>54888.0</td>\n",
       "    </tr>\n",
       "    <tr>\n",
       "      <th>4</th>\n",
       "      <td>UGT1A10</td>\n",
       "      <td>2.138340</td>\n",
       "      <td>54575.0</td>\n",
       "    </tr>\n",
       "    <tr>\n",
       "      <th>...</th>\n",
       "      <td>...</td>\n",
       "      <td>...</td>\n",
       "      <td>...</td>\n",
       "    </tr>\n",
       "    <tr>\n",
       "      <th>3376</th>\n",
       "      <td>TP53INP1</td>\n",
       "      <td>1.509060</td>\n",
       "      <td>79888.0</td>\n",
       "    </tr>\n",
       "    <tr>\n",
       "      <th>3377</th>\n",
       "      <td>LCORL</td>\n",
       "      <td>1.596090</td>\n",
       "      <td>94241.0</td>\n",
       "    </tr>\n",
       "    <tr>\n",
       "      <th>3378</th>\n",
       "      <td>PBLD</td>\n",
       "      <td>0.703692</td>\n",
       "      <td>254251.0</td>\n",
       "    </tr>\n",
       "    <tr>\n",
       "      <th>3379</th>\n",
       "      <td>KIAA1211</td>\n",
       "      <td>0.546610</td>\n",
       "      <td>64081.0</td>\n",
       "    </tr>\n",
       "    <tr>\n",
       "      <th>3380</th>\n",
       "      <td>LINC00578</td>\n",
       "      <td>0.670943</td>\n",
       "      <td>NaN</td>\n",
       "    </tr>\n",
       "  </tbody>\n",
       "</table>\n",
       "<p>3381 rows × 3 columns</p>\n",
       "</div>"
      ],
      "text/plain": [
       "           Gene  std_values_t2d  Entrez_t2d\n",
       "0       FAM163A        0.570595    148753.0\n",
       "1         MED27        0.938237      9442.0\n",
       "2         TIMP2        1.877070      7077.0\n",
       "3         NSUN2        0.532016     54888.0\n",
       "4       UGT1A10        2.138340     54575.0\n",
       "...         ...             ...         ...\n",
       "3376   TP53INP1        1.509060     79888.0\n",
       "3377      LCORL        1.596090     94241.0\n",
       "3378       PBLD        0.703692    254251.0\n",
       "3379   KIAA1211        0.546610     64081.0\n",
       "3380  LINC00578        0.670943         NaN\n",
       "\n",
       "[3381 rows x 3 columns]"
      ]
     },
     "execution_count": 66,
     "metadata": {},
     "output_type": "execute_result"
    }
   ],
   "source": [
    "diginet_T2D = pd.read_csv(\"E:\\shortlisted-diseases Maayan lab\\genomics-gwas/t2d-genes-GWAS.csv\")\n",
    "diginet_T2D"
   ]
  },
  {
   "cell_type": "markdown",
   "metadata": {},
   "source": [
    "An UpSet plot containing all the common and unique genes:"
   ]
  },
  {
   "cell_type": "code",
   "execution_count": 38,
   "metadata": {},
   "outputs": [],
   "source": [
    "from upsetplot import plot\n",
    "import pandas as pd\n",
    "\n",
    "df_1 = pd.read_csv(\"E:\\shortlisted-diseases Maayan lab\\genomics-gwas\\ibd-genes.csv\")\n",
    "df_2 = pd.read_csv(\"E:\\shortlisted-diseases Maayan lab\\genomics-gwas/alzheimer-genes-GWAS.csv\")\n",
    "df_3 = pd.read_csv(\"E:/shortlisted-diseases Maayan lab/genomics-gwas/T2D_revised_without_any_duplicates.csv\")\n",
    "df_4 = pd.read_csv(\"E:\\shortlisted-diseases Maayan lab\\genomics-gwas\\parkinsons-genes-GWAS.csv\")\n",
    "df_5 = pd.read_csv(\"E:/shortlisted-diseases Maayan lab/genomics-gwas/obesity_revised_without_any_duplicates.csv\")"
   ]
  },
  {
   "cell_type": "code",
   "execution_count": 67,
   "metadata": {},
   "outputs": [],
   "source": [
    "set1 = set(df_1['Gene'])\n",
    "set2 = set(df_2['Gene'])\n",
    "set3 = set(df_3['Gene'])\n",
    "set4 = set(df_4['Gene'])\n",
    "set5 = set(df_5['Gene'])\n",
    "set_names = [\"IBD\", \"ALZ\", \"T2D\", \"PARK\", \"OBS\"]\n"
   ]
  },
  {
   "cell_type": "code",
   "execution_count": 68,
   "metadata": {},
   "outputs": [
    {
     "data": {
      "text/plain": [
       "{'matrix': <Axes: >,\n",
       " 'shading': <Axes: >,\n",
       " 'totals': <Axes: >,\n",
       " 'intersections': <Axes: ylabel='Intersection size'>}"
      ]
     },
     "execution_count": 68,
     "metadata": {},
     "output_type": "execute_result"
    },
    {
     "data": {
      "image/png": "[encoded data removed]",
      "text/plain": [
       "<Figure size 1088x352 with 4 Axes>"
      ]
     },
     "metadata": {
      "needs_background": "light"
     },
     "output_type": "display_data"
    }
   ],
   "source": [
    "all_elems = set1.union(set2).union(set3).union(set4).union(set5)\n",
    "df_new = pd.DataFrame([[e in set1, e in set2, e in set3, e in set4, e in set5] for e in all_elems], columns = set_names)\n",
    "df_up = df_new.groupby(set_names).size()\n",
    "plot(df_up, orientation='horizontal', show_counts = True)\n"
   ]
  },
  {
   "cell_type": "markdown",
   "metadata": {},
   "source": [
    "Generating a heatmap containing all the genes for all the diseases:"
   ]
  },
  {
   "cell_type": "code",
   "execution_count": 85,
   "metadata": {},
   "outputs": [
    {
     "name": "stderr",
     "output_type": "stream",
     "text": [
      "C:\\Users\\Lenovo\\AppData\\Local\\Temp\\ipykernel_19872\\4125460149.py:1: FutureWarning: Passing 'suffixes' which cause duplicate columns {'Unnamed: 0_x', 'std_values_x'} in the result is deprecated and will raise a MergeError in a future version.\n",
      "  merged = df_1.merge(df_2, on=\"Gene\", how=\"inner\").merge(df_3, on=\"Gene\", how=\"inner\").merge(df_4, on=\"Gene\", how=\"inner\").merge(df_5, on=\"Gene\", how=\"inner\")\n"
     ]
    }
   ],
   "source": [
    "merged = df_1.merge(df_2, on=\"Gene\", how=\"inner\").merge(df_3, on=\"Gene\", how=\"inner\").merge(df_4, on=\"Gene\", how=\"inner\").merge(df_5, on=\"Gene\", how=\"inner\")"
   ]
  },
  {
   "cell_type": "code",
   "execution_count": 86,
   "metadata": {},
   "outputs": [],
   "source": [
    "merged = merged.fillna(0)\n",
    "merged = merged.set_index('Gene')"
   ]
  },
  {
   "cell_type": "code",
   "execution_count": 87,
   "metadata": {},
   "outputs": [],
   "source": [
    "merged = merged.drop(['Unnamed: 0_x', 'Unnamed: 0_y'], axis=1)"
   ]
  },
  {
   "cell_type": "code",
   "execution_count": 88,
   "metadata": {},
   "outputs": [],
   "source": [
    "merged = merged.drop(['Entrez_PARK'], axis=1)"
   ]
  },
  {
   "cell_type": "code",
   "execution_count": 89,
   "metadata": {},
   "outputs": [
    {
     "data": {
      "text/html": [
       "<div>\n",
       "<style scoped>\n",
       "    .dataframe tbody tr th:only-of-type {\n",
       "        vertical-align: middle;\n",
       "    }\n",
       "\n",
       "    .dataframe tbody tr th {\n",
       "        vertical-align: top;\n",
       "    }\n",
       "\n",
       "    .dataframe thead th {\n",
       "        text-align: right;\n",
       "    }\n",
       "</style>\n",
       "<table border=\"1\" class=\"dataframe\">\n",
       "  <thead>\n",
       "    <tr style=\"text-align: right;\">\n",
       "      <th></th>\n",
       "      <th>std_values_x</th>\n",
       "      <th>std_values_y</th>\n",
       "      <th>std_values_x</th>\n",
       "      <th>std_values_PARK</th>\n",
       "      <th>std_values_y</th>\n",
       "    </tr>\n",
       "    <tr>\n",
       "      <th>Gene</th>\n",
       "      <th></th>\n",
       "      <th></th>\n",
       "      <th></th>\n",
       "      <th></th>\n",
       "      <th></th>\n",
       "    </tr>\n",
       "  </thead>\n",
       "  <tbody>\n",
       "    <tr>\n",
       "      <th>MAML2</th>\n",
       "      <td>0.524610</td>\n",
       "      <td>0.721383</td>\n",
       "      <td>1.19171</td>\n",
       "      <td>0.585152</td>\n",
       "      <td>1.14463</td>\n",
       "    </tr>\n",
       "    <tr>\n",
       "      <th>NELL1</th>\n",
       "      <td>0.311576</td>\n",
       "      <td>0.673322</td>\n",
       "      <td>1.38210</td>\n",
       "      <td>0.741877</td>\n",
       "      <td>1.09373</td>\n",
       "    </tr>\n",
       "  </tbody>\n",
       "</table>\n",
       "</div>"
      ],
      "text/plain": [
       "       std_values_x  std_values_y  std_values_x  std_values_PARK  std_values_y\n",
       "Gene                                                                          \n",
       "MAML2      0.524610      0.721383       1.19171         0.585152       1.14463\n",
       "NELL1      0.311576      0.673322       1.38210         0.741877       1.09373"
      ]
     },
     "execution_count": 89,
     "metadata": {},
     "output_type": "execute_result"
    }
   ],
   "source": [
    "merged"
   ]
  },
  {
   "cell_type": "code",
   "execution_count": 82,
   "metadata": {},
   "outputs": [],
   "source": [
    "merged.columns = ['IBD', 'ALZ', 'T2D', 'PARK', 'OBS']"
   ]
  },
  {
   "cell_type": "code",
   "execution_count": 83,
   "metadata": {},
   "outputs": [
    {
     "name": "stderr",
     "output_type": "stream",
     "text": [
      "C:\\Users\\Lenovo\\AppData\\Roaming\\Python\\Python39\\site-packages\\seaborn\\matrix.py:560: UserWarning: Clustering large matrix with scipy. Installing `fastcluster` may give better performance.\n",
      "  warnings.warn(msg)\n"
     ]
    },
    {
     "data": {
      "image/png": "[encoded data removed]",
      "text/plain": [
       "<Figure size 720x720 with 4 Axes>"
      ]
     },
     "metadata": {
      "needs_background": "light"
     },
     "output_type": "display_data"
    }
   ],
   "source": [
    "h = sns.clustermap(merged)\n",
    "dendro = h.dendrogram_row.dendrogram\n",
    "\n",
    "D = np.array(dendro['dcoord'])\n",
    "I = np.array(dendro['icoord'])"
   ]
  },
  {
   "cell_type": "markdown",
   "metadata": {},
   "source": [
    "## Transcriptomics"
   ]
  },
  {
   "cell_type": "code",
   "execution_count": 58,
   "metadata": {},
   "outputs": [],
   "source": [
    "ob_T = pd.read_csv(\"E:\\Transcriptomics\\Obesity\\FINAL-transcripts/all the gse.csv\")\n",
    "t2d_T = pd.read_csv(\"E:\\Transcriptomics\\T2D\\Final-transcripts/both the GSE.csv\")\n",
    "ibd_T = pd.read_csv(\"E:\\Transcriptomics\\IBD\\ibd-transcript.csv\")\n",
    "alz_T = pd.read_csv(\"E:\\Transcriptomics\\Alzheimer's\\GSE122063.top.table.csv\")\n",
    "park_T = pd.read_csv(\"E:\\Transcriptomics\\Park\\Final-transcripts/all-the-GSE.csv\")"
   ]
  },
  {
   "cell_type": "code",
   "execution_count": 14,
   "metadata": {},
   "outputs": [
    {
     "data": {
      "text/html": [
       "<div>\n",
       "<style scoped>\n",
       "    .dataframe tbody tr th:only-of-type {\n",
       "        vertical-align: middle;\n",
       "    }\n",
       "\n",
       "    .dataframe tbody tr th {\n",
       "        vertical-align: top;\n",
       "    }\n",
       "\n",
       "    .dataframe thead th {\n",
       "        text-align: right;\n",
       "    }\n",
       "</style>\n",
       "<table border=\"1\" class=\"dataframe\">\n",
       "  <thead>\n",
       "    <tr style=\"text-align: right;\">\n",
       "      <th></th>\n",
       "      <th>adj.P.Val</th>\n",
       "      <th>P.Value</th>\n",
       "      <th>t</th>\n",
       "      <th>B</th>\n",
       "      <th>logFC</th>\n",
       "      <th>Gene.symbol</th>\n",
       "      <th>GENE_NAME</th>\n",
       "      <th>Unnamed: 7</th>\n",
       "      <th>Unnamed: 8</th>\n",
       "      <th>Unnamed: 9</th>\n",
       "      <th>Unnamed: 10</th>\n",
       "    </tr>\n",
       "  </thead>\n",
       "  <tbody>\n",
       "    <tr>\n",
       "      <th>0</th>\n",
       "      <td>1.360000e-16</td>\n",
       "      <td>4.990000e-21</td>\n",
       "      <td>11.90</td>\n",
       "      <td>37.114109</td>\n",
       "      <td>1.937365</td>\n",
       "      <td>SPP1</td>\n",
       "      <td>secreted phosphoprotein 1</td>\n",
       "      <td>NaN</td>\n",
       "      <td>NaN</td>\n",
       "      <td>NaN</td>\n",
       "      <td>NaN</td>\n",
       "    </tr>\n",
       "    <tr>\n",
       "      <th>2</th>\n",
       "      <td>1.360000e-16</td>\n",
       "      <td>6.970000e-21</td>\n",
       "      <td>11.90</td>\n",
       "      <td>36.792197</td>\n",
       "      <td>1.599127</td>\n",
       "      <td>CHST6</td>\n",
       "      <td>carbohydrate (N-acetylglucosamine 6-O) sulfotr...</td>\n",
       "      <td>NaN</td>\n",
       "      <td>NaN</td>\n",
       "      <td>NaN</td>\n",
       "      <td>NaN</td>\n",
       "    </tr>\n",
       "    <tr>\n",
       "      <th>8</th>\n",
       "      <td>3.730000e-16</td>\n",
       "      <td>6.270000e-20</td>\n",
       "      <td>-11.40</td>\n",
       "      <td>34.668865</td>\n",
       "      <td>-1.336824</td>\n",
       "      <td>CIRBP</td>\n",
       "      <td>cold inducible RNA binding protein</td>\n",
       "      <td>NaN</td>\n",
       "      <td>NaN</td>\n",
       "      <td>NaN</td>\n",
       "      <td>NaN</td>\n",
       "    </tr>\n",
       "    <tr>\n",
       "      <th>9</th>\n",
       "      <td>3.730000e-16</td>\n",
       "      <td>6.500000e-20</td>\n",
       "      <td>-11.40</td>\n",
       "      <td>34.634611</td>\n",
       "      <td>-0.899630</td>\n",
       "      <td>TRAPPC2L</td>\n",
       "      <td>trafficking protein particle complex 2-like</td>\n",
       "      <td>NaN</td>\n",
       "      <td>NaN</td>\n",
       "      <td>NaN</td>\n",
       "      <td>NaN</td>\n",
       "    </tr>\n",
       "    <tr>\n",
       "      <th>11</th>\n",
       "      <td>3.730000e-16</td>\n",
       "      <td>7.620000e-20</td>\n",
       "      <td>-11.40</td>\n",
       "      <td>34.480691</td>\n",
       "      <td>-1.675652</td>\n",
       "      <td>SPON2</td>\n",
       "      <td>spondin 2</td>\n",
       "      <td>extracellular matrix protein</td>\n",
       "      <td>NaN</td>\n",
       "      <td>NaN</td>\n",
       "      <td>NaN</td>\n",
       "    </tr>\n",
       "    <tr>\n",
       "      <th>...</th>\n",
       "      <td>...</td>\n",
       "      <td>...</td>\n",
       "      <td>...</td>\n",
       "      <td>...</td>\n",
       "      <td>...</td>\n",
       "      <td>...</td>\n",
       "      <td>...</td>\n",
       "      <td>...</td>\n",
       "      <td>...</td>\n",
       "      <td>...</td>\n",
       "      <td>...</td>\n",
       "    </tr>\n",
       "    <tr>\n",
       "      <th>2625</th>\n",
       "      <td>9.770000e-07</td>\n",
       "      <td>4.370000e-08</td>\n",
       "      <td>-5.92</td>\n",
       "      <td>8.263034</td>\n",
       "      <td>-1.314369</td>\n",
       "      <td>CITED1</td>\n",
       "      <td>Cbp/p300-interacting transactivator</td>\n",
       "      <td>with Glu/Asp-rich carboxy-terminal domain</td>\n",
       "      <td>1</td>\n",
       "      <td>NaN</td>\n",
       "      <td>NaN</td>\n",
       "    </tr>\n",
       "    <tr>\n",
       "      <th>2626</th>\n",
       "      <td>9.810000e-07</td>\n",
       "      <td>4.390000e-08</td>\n",
       "      <td>5.92</td>\n",
       "      <td>8.259125</td>\n",
       "      <td>1.022935</td>\n",
       "      <td>XLOC_004512</td>\n",
       "      <td>NaN</td>\n",
       "      <td>NaN</td>\n",
       "      <td>NaN</td>\n",
       "      <td>NaN</td>\n",
       "      <td>NaN</td>\n",
       "    </tr>\n",
       "    <tr>\n",
       "      <th>2627</th>\n",
       "      <td>9.830000e-07</td>\n",
       "      <td>4.400000e-08</td>\n",
       "      <td>-5.92</td>\n",
       "      <td>8.256858</td>\n",
       "      <td>-0.883357</td>\n",
       "      <td>ZNF215</td>\n",
       "      <td>zinc finger protein 215</td>\n",
       "      <td>NaN</td>\n",
       "      <td>NaN</td>\n",
       "      <td>NaN</td>\n",
       "      <td>NaN</td>\n",
       "    </tr>\n",
       "    <tr>\n",
       "      <th>2632</th>\n",
       "      <td>9.880000e-07</td>\n",
       "      <td>4.430000e-08</td>\n",
       "      <td>-5.92</td>\n",
       "      <td>8.250386</td>\n",
       "      <td>-0.702451</td>\n",
       "      <td>WFDC2</td>\n",
       "      <td>WAP four-disulfide core domain 2</td>\n",
       "      <td>NaN</td>\n",
       "      <td>NaN</td>\n",
       "      <td>NaN</td>\n",
       "      <td>NaN</td>\n",
       "    </tr>\n",
       "    <tr>\n",
       "      <th>2633</th>\n",
       "      <td>9.880000e-07</td>\n",
       "      <td>4.430000e-08</td>\n",
       "      <td>-5.92</td>\n",
       "      <td>8.249984</td>\n",
       "      <td>-0.444601</td>\n",
       "      <td>TMEM8B</td>\n",
       "      <td>transmembrane protein 8B</td>\n",
       "      <td>NaN</td>\n",
       "      <td>NaN</td>\n",
       "      <td>NaN</td>\n",
       "      <td>NaN</td>\n",
       "    </tr>\n",
       "  </tbody>\n",
       "</table>\n",
       "<p>1797 rows × 11 columns</p>\n",
       "</div>"
      ],
      "text/plain": [
       "         adj.P.Val       P.Value      t          B     logFC  Gene.symbol  \\\n",
       "0     1.360000e-16  4.990000e-21  11.90  37.114109  1.937365         SPP1   \n",
       "2     1.360000e-16  6.970000e-21  11.90  36.792197  1.599127        CHST6   \n",
       "8     3.730000e-16  6.270000e-20 -11.40  34.668865 -1.336824        CIRBP   \n",
       "9     3.730000e-16  6.500000e-20 -11.40  34.634611 -0.899630     TRAPPC2L   \n",
       "11    3.730000e-16  7.620000e-20 -11.40  34.480691 -1.675652        SPON2   \n",
       "...            ...           ...    ...        ...       ...          ...   \n",
       "2625  9.770000e-07  4.370000e-08  -5.92   8.263034 -1.314369       CITED1   \n",
       "2626  9.810000e-07  4.390000e-08   5.92   8.259125  1.022935  XLOC_004512   \n",
       "2627  9.830000e-07  4.400000e-08  -5.92   8.256858 -0.883357       ZNF215   \n",
       "2632  9.880000e-07  4.430000e-08  -5.92   8.250386 -0.702451        WFDC2   \n",
       "2633  9.880000e-07  4.430000e-08  -5.92   8.249984 -0.444601       TMEM8B   \n",
       "\n",
       "                                              GENE_NAME  \\\n",
       "0                             secreted phosphoprotein 1   \n",
       "2     carbohydrate (N-acetylglucosamine 6-O) sulfotr...   \n",
       "8                    cold inducible RNA binding protein   \n",
       "9           trafficking protein particle complex 2-like   \n",
       "11                                            spondin 2   \n",
       "...                                                 ...   \n",
       "2625                Cbp/p300-interacting transactivator   \n",
       "2626                                                NaN   \n",
       "2627                            zinc finger protein 215   \n",
       "2632                   WAP four-disulfide core domain 2   \n",
       "2633                           transmembrane protein 8B   \n",
       "\n",
       "                                     Unnamed: 7 Unnamed: 8 Unnamed: 9  \\\n",
       "0                                           NaN        NaN        NaN   \n",
       "2                                           NaN        NaN        NaN   \n",
       "8                                           NaN        NaN        NaN   \n",
       "9                                           NaN        NaN        NaN   \n",
       "11                 extracellular matrix protein        NaN        NaN   \n",
       "...                                         ...        ...        ...   \n",
       "2625  with Glu/Asp-rich carboxy-terminal domain          1        NaN   \n",
       "2626                                        NaN        NaN        NaN   \n",
       "2627                                        NaN        NaN        NaN   \n",
       "2632                                        NaN        NaN        NaN   \n",
       "2633                                        NaN        NaN        NaN   \n",
       "\n",
       "     Unnamed: 10  \n",
       "0            NaN  \n",
       "2            NaN  \n",
       "8            NaN  \n",
       "9            NaN  \n",
       "11           NaN  \n",
       "...          ...  \n",
       "2625         NaN  \n",
       "2626         NaN  \n",
       "2627         NaN  \n",
       "2632         NaN  \n",
       "2633         NaN  \n",
       "\n",
       "[1797 rows x 11 columns]"
      ]
     },
     "execution_count": 14,
     "metadata": {},
     "output_type": "execute_result"
    }
   ],
   "source": [
    "alz_T = alz_T.drop_duplicates('Gene.symbol')\n",
    "park_T = park_T.drop_duplicates('Gene.symbol')\n",
    "alz_T"
   ]
  },
  {
   "cell_type": "code",
   "execution_count": 35,
   "metadata": {},
   "outputs": [
    {
     "name": "stdout",
     "output_type": "stream",
     "text": [
      "Index(['GeneID', 'padj', 'pvalue', 'lfcSE', 'stat', 'log2FoldChange',\n",
      "       'baseMean', 'Gene.symbol', 'Description'],\n",
      "      dtype='object')\n"
     ]
    },
    {
     "data": {
      "text/plain": [
       "<Axes: ylabel='Count'>"
      ]
     },
     "execution_count": 35,
     "metadata": {},
     "output_type": "execute_result"
    },
    {
     "data": {
      "image/png": "[encoded data removed]",
      "text/plain": [
       "<Figure size 432x288 with 1 Axes>"
      ]
     },
     "metadata": {
      "needs_background": "light"
     },
     "output_type": "display_data"
    }
   ],
   "source": [
    "import seaborn as sns\n",
    "\n",
    "t2d_T = t2d_T.drop_duplicates('Gene.symbol')\n",
    "print(t2d_T.columns)\n",
    "sns.histplot(t2d_T[['Gene.symbol', 'log2FoldChange']])"
   ]
  },
  {
   "cell_type": "code",
   "execution_count": 64,
   "metadata": {},
   "outputs": [
    {
     "data": {
      "text/html": [
       "<div>\n",
       "<style scoped>\n",
       "    .dataframe tbody tr th:only-of-type {\n",
       "        vertical-align: middle;\n",
       "    }\n",
       "\n",
       "    .dataframe tbody tr th {\n",
       "        vertical-align: top;\n",
       "    }\n",
       "\n",
       "    .dataframe thead th {\n",
       "        text-align: right;\n",
       "    }\n",
       "</style>\n",
       "<table border=\"1\" class=\"dataframe\">\n",
       "  <thead>\n",
       "    <tr style=\"text-align: right;\">\n",
       "      <th></th>\n",
       "      <th>Unnamed: 0</th>\n",
       "      <th>adj.P.Val</th>\n",
       "      <th>P.Value</th>\n",
       "      <th>logFC</th>\n",
       "      <th>Gene.symbol</th>\n",
       "      <th>Gene.title</th>\n",
       "      <th>Unnamed: 6</th>\n",
       "      <th>Unnamed: 7</th>\n",
       "      <th>Unnamed: 8</th>\n",
       "      <th>Unnamed: 9</th>\n",
       "      <th>GeneID</th>\n",
       "      <th>padj</th>\n",
       "      <th>pvalue</th>\n",
       "      <th>lfcSE</th>\n",
       "      <th>stat</th>\n",
       "      <th>log2FoldChange</th>\n",
       "      <th>baseMean</th>\n",
       "      <th>Description</th>\n",
       "    </tr>\n",
       "  </thead>\n",
       "  <tbody>\n",
       "    <tr>\n",
       "      <th>0</th>\n",
       "      <td>NaN</td>\n",
       "      <td>0.000650</td>\n",
       "      <td>2.610000e-07</td>\n",
       "      <td>-0.225000</td>\n",
       "      <td>RHOG</td>\n",
       "      <td>ras homolog family member G</td>\n",
       "      <td>NaN</td>\n",
       "      <td>NaN</td>\n",
       "      <td>NaN</td>\n",
       "      <td>NaN</td>\n",
       "      <td>391</td>\n",
       "      <td>0.011400</td>\n",
       "      <td>0.000093</td>\n",
       "      <td>0.1244</td>\n",
       "      <td>-3.907894</td>\n",
       "      <td>-0.486228</td>\n",
       "      <td>292.45</td>\n",
       "      <td>ras homolog family member G</td>\n",
       "    </tr>\n",
       "    <tr>\n",
       "      <th>1</th>\n",
       "      <td>NaN</td>\n",
       "      <td>0.001324</td>\n",
       "      <td>1.120000e-06</td>\n",
       "      <td>-0.219000</td>\n",
       "      <td>PILRA</td>\n",
       "      <td>paired immunoglobin like type 2 receptor alpha</td>\n",
       "      <td>NaN</td>\n",
       "      <td>NaN</td>\n",
       "      <td>NaN</td>\n",
       "      <td>NaN</td>\n",
       "      <td>29992</td>\n",
       "      <td>0.046600</td>\n",
       "      <td>0.002630</td>\n",
       "      <td>0.1371</td>\n",
       "      <td>-3.007959</td>\n",
       "      <td>-0.412264</td>\n",
       "      <td>169.85</td>\n",
       "      <td>paired immunoglobin like type 2 receptor alpha</td>\n",
       "    </tr>\n",
       "    <tr>\n",
       "      <th>2</th>\n",
       "      <td>NaN</td>\n",
       "      <td>0.001627</td>\n",
       "      <td>1.930000e-06</td>\n",
       "      <td>-0.203000</td>\n",
       "      <td>HELZ2</td>\n",
       "      <td>helicase with zinc finger 2</td>\n",
       "      <td>NaN</td>\n",
       "      <td>NaN</td>\n",
       "      <td>NaN</td>\n",
       "      <td>NaN</td>\n",
       "      <td>85441</td>\n",
       "      <td>0.766884</td>\n",
       "      <td>0.042700</td>\n",
       "      <td>0.3478</td>\n",
       "      <td>-2.026387</td>\n",
       "      <td>-0.704835</td>\n",
       "      <td>865.74</td>\n",
       "      <td>helicase with zinc finger 2</td>\n",
       "    </tr>\n",
       "    <tr>\n",
       "      <th>3</th>\n",
       "      <td>NaN</td>\n",
       "      <td>0.002009</td>\n",
       "      <td>3.280000e-06</td>\n",
       "      <td>-0.215000</td>\n",
       "      <td>DGAT2</td>\n",
       "      <td>diacylglycerol O-acyltransferase 2</td>\n",
       "      <td>NaN</td>\n",
       "      <td>NaN</td>\n",
       "      <td>NaN</td>\n",
       "      <td>NaN</td>\n",
       "      <td>84649</td>\n",
       "      <td>0.006758</td>\n",
       "      <td>0.000007</td>\n",
       "      <td>0.4873</td>\n",
       "      <td>4.493862</td>\n",
       "      <td>2.190052</td>\n",
       "      <td>7618.28</td>\n",
       "      <td>diacylglycerol O-acyltransferase 2</td>\n",
       "    </tr>\n",
       "    <tr>\n",
       "      <th>4</th>\n",
       "      <td>NaN</td>\n",
       "      <td>0.002057</td>\n",
       "      <td>3.720000e-06</td>\n",
       "      <td>-0.189000</td>\n",
       "      <td>S100A11</td>\n",
       "      <td>S100 calcium binding protein A11</td>\n",
       "      <td>NaN</td>\n",
       "      <td>NaN</td>\n",
       "      <td>NaN</td>\n",
       "      <td>NaN</td>\n",
       "      <td>6282</td>\n",
       "      <td>0.024000</td>\n",
       "      <td>0.000483</td>\n",
       "      <td>0.1491</td>\n",
       "      <td>-3.489795</td>\n",
       "      <td>-0.520195</td>\n",
       "      <td>279.77</td>\n",
       "      <td>S100 calcium binding protein A11</td>\n",
       "    </tr>\n",
       "    <tr>\n",
       "      <th>...</th>\n",
       "      <td>...</td>\n",
       "      <td>...</td>\n",
       "      <td>...</td>\n",
       "      <td>...</td>\n",
       "      <td>...</td>\n",
       "      <td>...</td>\n",
       "      <td>...</td>\n",
       "      <td>...</td>\n",
       "      <td>...</td>\n",
       "      <td>...</td>\n",
       "      <td>...</td>\n",
       "      <td>...</td>\n",
       "      <td>...</td>\n",
       "      <td>...</td>\n",
       "      <td>...</td>\n",
       "      <td>...</td>\n",
       "      <td>...</td>\n",
       "      <td>...</td>\n",
       "    </tr>\n",
       "    <tr>\n",
       "      <th>101</th>\n",
       "      <td>NaN</td>\n",
       "      <td>0.036100</td>\n",
       "      <td>9.971200e-03</td>\n",
       "      <td>0.714020</td>\n",
       "      <td>SIRT1</td>\n",
       "      <td>NaN</td>\n",
       "      <td>NaN</td>\n",
       "      <td>NaN</td>\n",
       "      <td>NaN</td>\n",
       "      <td>NaN</td>\n",
       "      <td>23411</td>\n",
       "      <td>0.035800</td>\n",
       "      <td>0.001240</td>\n",
       "      <td>0.0549</td>\n",
       "      <td>3.230072</td>\n",
       "      <td>0.177297</td>\n",
       "      <td>399.89</td>\n",
       "      <td>sirtuin 1</td>\n",
       "    </tr>\n",
       "    <tr>\n",
       "      <th>102</th>\n",
       "      <td>NaN</td>\n",
       "      <td>0.036500</td>\n",
       "      <td>1.018620e-02</td>\n",
       "      <td>0.630639</td>\n",
       "      <td>KIF3A</td>\n",
       "      <td>NaN</td>\n",
       "      <td>NaN</td>\n",
       "      <td>NaN</td>\n",
       "      <td>NaN</td>\n",
       "      <td>NaN</td>\n",
       "      <td>11127</td>\n",
       "      <td>0.611119</td>\n",
       "      <td>0.016500</td>\n",
       "      <td>0.2070</td>\n",
       "      <td>-2.397482</td>\n",
       "      <td>-0.496377</td>\n",
       "      <td>226.45</td>\n",
       "      <td>kinesin family member 3A</td>\n",
       "    </tr>\n",
       "    <tr>\n",
       "      <th>103</th>\n",
       "      <td>NaN</td>\n",
       "      <td>0.039300</td>\n",
       "      <td>1.126280e-02</td>\n",
       "      <td>0.859138</td>\n",
       "      <td>CNR1</td>\n",
       "      <td>NaN</td>\n",
       "      <td>NaN</td>\n",
       "      <td>NaN</td>\n",
       "      <td>NaN</td>\n",
       "      <td>NaN</td>\n",
       "      <td>1268</td>\n",
       "      <td>0.743612</td>\n",
       "      <td>0.034400</td>\n",
       "      <td>0.4152</td>\n",
       "      <td>-2.115382</td>\n",
       "      <td>-0.878225</td>\n",
       "      <td>103.62</td>\n",
       "      <td>cannabinoid receptor 1</td>\n",
       "    </tr>\n",
       "    <tr>\n",
       "      <th>104</th>\n",
       "      <td>NaN</td>\n",
       "      <td>0.044200</td>\n",
       "      <td>1.371880e-02</td>\n",
       "      <td>0.814248</td>\n",
       "      <td>IDH1</td>\n",
       "      <td>NaN</td>\n",
       "      <td>NaN</td>\n",
       "      <td>NaN</td>\n",
       "      <td>NaN</td>\n",
       "      <td>NaN</td>\n",
       "      <td>3417</td>\n",
       "      <td>0.659130</td>\n",
       "      <td>0.019900</td>\n",
       "      <td>0.3332</td>\n",
       "      <td>2.327854</td>\n",
       "      <td>0.775637</td>\n",
       "      <td>6272.90</td>\n",
       "      <td>isocitrate dehydrogenase (NADP(+)) 1</td>\n",
       "    </tr>\n",
       "    <tr>\n",
       "      <th>105</th>\n",
       "      <td>NaN</td>\n",
       "      <td>0.046800</td>\n",
       "      <td>1.482970e-02</td>\n",
       "      <td>0.753355</td>\n",
       "      <td>TNFRSF10A</td>\n",
       "      <td>NaN</td>\n",
       "      <td>NaN</td>\n",
       "      <td>NaN</td>\n",
       "      <td>NaN</td>\n",
       "      <td>NaN</td>\n",
       "      <td>8797</td>\n",
       "      <td>0.536719</td>\n",
       "      <td>0.011100</td>\n",
       "      <td>0.5437</td>\n",
       "      <td>-2.540976</td>\n",
       "      <td>-1.381506</td>\n",
       "      <td>146.90</td>\n",
       "      <td>TNF receptor superfamily member 10a</td>\n",
       "    </tr>\n",
       "  </tbody>\n",
       "</table>\n",
       "<p>106 rows × 18 columns</p>\n",
       "</div>"
      ],
      "text/plain": [
       "     Unnamed: 0  adj.P.Val       P.Value     logFC Gene.symbol  \\\n",
       "0           NaN   0.000650  2.610000e-07 -0.225000        RHOG   \n",
       "1           NaN   0.001324  1.120000e-06 -0.219000       PILRA   \n",
       "2           NaN   0.001627  1.930000e-06 -0.203000       HELZ2   \n",
       "3           NaN   0.002009  3.280000e-06 -0.215000       DGAT2   \n",
       "4           NaN   0.002057  3.720000e-06 -0.189000     S100A11   \n",
       "..          ...        ...           ...       ...         ...   \n",
       "101         NaN   0.036100  9.971200e-03  0.714020       SIRT1   \n",
       "102         NaN   0.036500  1.018620e-02  0.630639       KIF3A   \n",
       "103         NaN   0.039300  1.126280e-02  0.859138        CNR1   \n",
       "104         NaN   0.044200  1.371880e-02  0.814248        IDH1   \n",
       "105         NaN   0.046800  1.482970e-02  0.753355   TNFRSF10A   \n",
       "\n",
       "                                         Gene.title Unnamed: 6 Unnamed: 7  \\\n",
       "0                       ras homolog family member G        NaN        NaN   \n",
       "1    paired immunoglobin like type 2 receptor alpha        NaN        NaN   \n",
       "2                       helicase with zinc finger 2        NaN        NaN   \n",
       "3                diacylglycerol O-acyltransferase 2        NaN        NaN   \n",
       "4                  S100 calcium binding protein A11        NaN        NaN   \n",
       "..                                              ...        ...        ...   \n",
       "101                                             NaN        NaN        NaN   \n",
       "102                                             NaN        NaN        NaN   \n",
       "103                                             NaN        NaN        NaN   \n",
       "104                                             NaN        NaN        NaN   \n",
       "105                                             NaN        NaN        NaN   \n",
       "\n",
       "    Unnamed: 8 Unnamed: 9  GeneID      padj    pvalue   lfcSE      stat  \\\n",
       "0          NaN        NaN     391  0.011400  0.000093  0.1244 -3.907894   \n",
       "1          NaN        NaN   29992  0.046600  0.002630  0.1371 -3.007959   \n",
       "2          NaN        NaN   85441  0.766884  0.042700  0.3478 -2.026387   \n",
       "3          NaN        NaN   84649  0.006758  0.000007  0.4873  4.493862   \n",
       "4          NaN        NaN    6282  0.024000  0.000483  0.1491 -3.489795   \n",
       "..         ...        ...     ...       ...       ...     ...       ...   \n",
       "101        NaN        NaN   23411  0.035800  0.001240  0.0549  3.230072   \n",
       "102        NaN        NaN   11127  0.611119  0.016500  0.2070 -2.397482   \n",
       "103        NaN        NaN    1268  0.743612  0.034400  0.4152 -2.115382   \n",
       "104        NaN        NaN    3417  0.659130  0.019900  0.3332  2.327854   \n",
       "105        NaN        NaN    8797  0.536719  0.011100  0.5437 -2.540976   \n",
       "\n",
       "     log2FoldChange  baseMean                                     Description  \n",
       "0         -0.486228    292.45                     ras homolog family member G  \n",
       "1         -0.412264    169.85  paired immunoglobin like type 2 receptor alpha  \n",
       "2         -0.704835    865.74                     helicase with zinc finger 2  \n",
       "3          2.190052   7618.28              diacylglycerol O-acyltransferase 2  \n",
       "4         -0.520195    279.77                S100 calcium binding protein A11  \n",
       "..              ...       ...                                             ...  \n",
       "101        0.177297    399.89                                       sirtuin 1  \n",
       "102       -0.496377    226.45                        kinesin family member 3A  \n",
       "103       -0.878225    103.62                          cannabinoid receptor 1  \n",
       "104        0.775637   6272.90            isocitrate dehydrogenase (NADP(+)) 1  \n",
       "105       -1.381506    146.90             TNF receptor superfamily member 10a  \n",
       "\n",
       "[106 rows x 18 columns]"
      ]
     },
     "execution_count": 64,
     "metadata": {},
     "output_type": "execute_result"
    }
   ],
   "source": [
    "t2d_T = t2d_T.drop_duplicates('Gene.symbol')\n",
    "park_T = park_T.drop_duplicates('Gene.symbol')\n",
    "\n",
    "merged_df_transcript = park_T.merge(t2d_T, on= 'Gene.symbol')\n",
    "merged_df_transcript = merged_df_transcript.dropna(axis=1, how=\"all\")\n",
    "merged_df_transcript"
   ]
  },
  {
   "cell_type": "code",
   "execution_count": 65,
   "metadata": {},
   "outputs": [
    {
     "data": {
      "image/png": "[encoded data removed]",
      "text/plain": [
       "<Figure size 720x720 with 4 Axes>"
      ]
     },
     "metadata": {
      "needs_background": "light"
     },
     "output_type": "display_data"
    }
   ],
   "source": [
    "merged = merged_df_transcript[['Gene.symbol', 'logFC', 'log2FoldChange']]\n",
    "merged = merged.set_index('Gene.symbol')\n",
    "h = sns.clustermap(merged)\n",
    "dendro = h.dendrogram_row.dendrogram\n",
    "import numpy as np\n",
    "D = np.array(dendro['dcoord'])\n",
    "I = np.array(dendro['icoord'])"
   ]
  },
  {
   "cell_type": "code",
   "execution_count": 59,
   "metadata": {},
   "outputs": [],
   "source": [
    "ibd_T = ibd_T[abs(ibd_T['logFC']) > 1]\n",
    "# alz_T = alz_T[abs(alz_T['logFC']) > 1]\n",
    "# park_T = park_T[abs(park_T['logFC']) > 1]\n",
    "# ob_T = ob_T[abs(ob_T['log2FoldChange']) > 1]\n",
    "# t2d_T = t2d_T[abs(t2d_T['log2FoldChange']) > 1]\n"
   ]
  },
  {
   "cell_type": "code",
   "execution_count": 60,
   "metadata": {},
   "outputs": [],
   "source": [
    "set1 = set(ibd_T['Gene.symbol'])\n",
    "set2 = set(alz_T['Gene.symbol'])\n",
    "set3 = set(t2d_T['Gene.symbol'])\n",
    "set4 = set(park_T['Gene.symbol'])\n",
    "set5 = set(ob_T['Gene.symbol'])\n",
    "set_names = [\"IBD\", \"ALZ\", \"T2D\", \"PARK\", \"OBS\"]"
   ]
  },
  {
   "cell_type": "code",
   "execution_count": 61,
   "metadata": {},
   "outputs": [
    {
     "data": {
      "text/plain": [
       "{'matrix': <Axes: >,\n",
       " 'shading': <Axes: >,\n",
       " 'totals': <Axes: >,\n",
       " 'intersections': <Axes: ylabel='Intersection size'>}"
      ]
     },
     "execution_count": 61,
     "metadata": {},
     "output_type": "execute_result"
    },
    {
     "data": {
      "image/png": "[encoded data removed]",
      "text/plain": [
       "<Figure size 928x352 with 4 Axes>"
      ]
     },
     "metadata": {
      "needs_background": "light"
     },
     "output_type": "display_data"
    }
   ],
   "source": [
    "all_elems = set1.union(set2).union(set3).union(set4).union(set5)\n",
    "df_new = pd.DataFrame([[e in set1, e in set2, e in set3, e in set4, e in set5] for e in all_elems], columns = set_names)\n",
    "df_up = df_new.groupby(set_names).size()\n",
    "plot(df_up, orientation='horizontal', show_counts = True)"
   ]
  },
  {
   "cell_type": "code",
   "execution_count": 4,
   "metadata": {},
   "outputs": [],
   "source": [
    "ob_T = pd.read_csv(\"E:\\Transcriptomics\\Obesity\\FINAL-transcripts/all the gse.csv\")\n",
    "t2d_T = pd.read_csv(\"E:\\Transcriptomics\\T2D\\Final-transcripts/both the GSE.csv\")"
   ]
  },
  {
   "cell_type": "code",
   "execution_count": 16,
   "metadata": {},
   "outputs": [
    {
     "data": {
      "text/html": [
       "<div>\n",
       "<style scoped>\n",
       "    .dataframe tbody tr th:only-of-type {\n",
       "        vertical-align: middle;\n",
       "    }\n",
       "\n",
       "    .dataframe tbody tr th {\n",
       "        vertical-align: top;\n",
       "    }\n",
       "\n",
       "    .dataframe thead th {\n",
       "        text-align: right;\n",
       "    }\n",
       "</style>\n",
       "<table border=\"1\" class=\"dataframe\">\n",
       "  <thead>\n",
       "    <tr style=\"text-align: right;\">\n",
       "      <th></th>\n",
       "      <th>Gene.symbol</th>\n",
       "      <th>baseMean_x</th>\n",
       "      <th>baseMean_y</th>\n",
       "    </tr>\n",
       "  </thead>\n",
       "  <tbody>\n",
       "    <tr>\n",
       "      <th>0</th>\n",
       "      <td>MTRNR2L8</td>\n",
       "      <td>4410.20</td>\n",
       "      <td>48.85</td>\n",
       "    </tr>\n",
       "    <tr>\n",
       "      <th>1</th>\n",
       "      <td>NR4A2</td>\n",
       "      <td>2583.73</td>\n",
       "      <td>598.12</td>\n",
       "    </tr>\n",
       "    <tr>\n",
       "      <th>2</th>\n",
       "      <td>ATF3</td>\n",
       "      <td>2984.78</td>\n",
       "      <td>653.81</td>\n",
       "    </tr>\n",
       "    <tr>\n",
       "      <th>3</th>\n",
       "      <td>HBEGF</td>\n",
       "      <td>619.10</td>\n",
       "      <td>248.16</td>\n",
       "    </tr>\n",
       "    <tr>\n",
       "      <th>4</th>\n",
       "      <td>ABHD13</td>\n",
       "      <td>512.64</td>\n",
       "      <td>453.31</td>\n",
       "    </tr>\n",
       "    <tr>\n",
       "      <th>5</th>\n",
       "      <td>EGR3</td>\n",
       "      <td>1060.53</td>\n",
       "      <td>240.81</td>\n",
       "    </tr>\n",
       "    <tr>\n",
       "      <th>6</th>\n",
       "      <td>LINC01088</td>\n",
       "      <td>38.52</td>\n",
       "      <td>27.62</td>\n",
       "    </tr>\n",
       "    <tr>\n",
       "      <th>7</th>\n",
       "      <td>DDX3X</td>\n",
       "      <td>6449.04</td>\n",
       "      <td>4745.26</td>\n",
       "    </tr>\n",
       "    <tr>\n",
       "      <th>8</th>\n",
       "      <td>LOC101928953</td>\n",
       "      <td>247.63</td>\n",
       "      <td>267.85</td>\n",
       "    </tr>\n",
       "    <tr>\n",
       "      <th>9</th>\n",
       "      <td>IL1B</td>\n",
       "      <td>273.36</td>\n",
       "      <td>113.30</td>\n",
       "    </tr>\n",
       "    <tr>\n",
       "      <th>10</th>\n",
       "      <td>PDP1</td>\n",
       "      <td>523.96</td>\n",
       "      <td>469.37</td>\n",
       "    </tr>\n",
       "    <tr>\n",
       "      <th>11</th>\n",
       "      <td>PPP1R15B</td>\n",
       "      <td>1921.14</td>\n",
       "      <td>1463.44</td>\n",
       "    </tr>\n",
       "    <tr>\n",
       "      <th>12</th>\n",
       "      <td>PPP2R2B</td>\n",
       "      <td>39.70</td>\n",
       "      <td>42.04</td>\n",
       "    </tr>\n",
       "    <tr>\n",
       "      <th>13</th>\n",
       "      <td>LOC107986924</td>\n",
       "      <td>115.08</td>\n",
       "      <td>34.92</td>\n",
       "    </tr>\n",
       "    <tr>\n",
       "      <th>14</th>\n",
       "      <td>BABAM2-AS1</td>\n",
       "      <td>281.99</td>\n",
       "      <td>99.74</td>\n",
       "    </tr>\n",
       "    <tr>\n",
       "      <th>15</th>\n",
       "      <td>LOC105373974</td>\n",
       "      <td>148.15</td>\n",
       "      <td>162.56</td>\n",
       "    </tr>\n",
       "    <tr>\n",
       "      <th>16</th>\n",
       "      <td>LOC105371622</td>\n",
       "      <td>118.29</td>\n",
       "      <td>126.27</td>\n",
       "    </tr>\n",
       "    <tr>\n",
       "      <th>17</th>\n",
       "      <td>OGG1</td>\n",
       "      <td>657.49</td>\n",
       "      <td>682.98</td>\n",
       "    </tr>\n",
       "    <tr>\n",
       "      <th>18</th>\n",
       "      <td>TMEM52</td>\n",
       "      <td>43.76</td>\n",
       "      <td>49.80</td>\n",
       "    </tr>\n",
       "    <tr>\n",
       "      <th>19</th>\n",
       "      <td>LAMC2</td>\n",
       "      <td>203.18</td>\n",
       "      <td>236.47</td>\n",
       "    </tr>\n",
       "    <tr>\n",
       "      <th>20</th>\n",
       "      <td>BCKDHA</td>\n",
       "      <td>1838.22</td>\n",
       "      <td>1819.25</td>\n",
       "    </tr>\n",
       "    <tr>\n",
       "      <th>21</th>\n",
       "      <td>FAHD2A</td>\n",
       "      <td>868.45</td>\n",
       "      <td>892.70</td>\n",
       "    </tr>\n",
       "    <tr>\n",
       "      <th>23</th>\n",
       "      <td>RASL10B</td>\n",
       "      <td>614.52</td>\n",
       "      <td>624.41</td>\n",
       "    </tr>\n",
       "    <tr>\n",
       "      <th>24</th>\n",
       "      <td>HDHD5</td>\n",
       "      <td>723.51</td>\n",
       "      <td>731.21</td>\n",
       "    </tr>\n",
       "    <tr>\n",
       "      <th>25</th>\n",
       "      <td>MAFF</td>\n",
       "      <td>1095.70</td>\n",
       "      <td>1163.40</td>\n",
       "    </tr>\n",
       "    <tr>\n",
       "      <th>26</th>\n",
       "      <td>SURF6</td>\n",
       "      <td>1023.61</td>\n",
       "      <td>161.18</td>\n",
       "    </tr>\n",
       "    <tr>\n",
       "      <th>27</th>\n",
       "      <td>FOLR3</td>\n",
       "      <td>23.54</td>\n",
       "      <td>178.05</td>\n",
       "    </tr>\n",
       "    <tr>\n",
       "      <th>28</th>\n",
       "      <td>TENT5A</td>\n",
       "      <td>1077.49</td>\n",
       "      <td>900.31</td>\n",
       "    </tr>\n",
       "    <tr>\n",
       "      <th>29</th>\n",
       "      <td>FASN</td>\n",
       "      <td>15160.05</td>\n",
       "      <td>14577.14</td>\n",
       "    </tr>\n",
       "    <tr>\n",
       "      <th>30</th>\n",
       "      <td>MIR6848</td>\n",
       "      <td>112.48</td>\n",
       "      <td>126.40</td>\n",
       "    </tr>\n",
       "    <tr>\n",
       "      <th>31</th>\n",
       "      <td>IL18RAP</td>\n",
       "      <td>73.32</td>\n",
       "      <td>60.57</td>\n",
       "    </tr>\n",
       "    <tr>\n",
       "      <th>32</th>\n",
       "      <td>ZBTB21</td>\n",
       "      <td>355.58</td>\n",
       "      <td>326.86</td>\n",
       "    </tr>\n",
       "    <tr>\n",
       "      <th>33</th>\n",
       "      <td>IVNS1ABP</td>\n",
       "      <td>1788.95</td>\n",
       "      <td>1919.69</td>\n",
       "    </tr>\n",
       "    <tr>\n",
       "      <th>34</th>\n",
       "      <td>RNF32</td>\n",
       "      <td>43.64</td>\n",
       "      <td>51.13</td>\n",
       "    </tr>\n",
       "    <tr>\n",
       "      <th>35</th>\n",
       "      <td>MIR3677HG</td>\n",
       "      <td>19.98</td>\n",
       "      <td>24.26</td>\n",
       "    </tr>\n",
       "    <tr>\n",
       "      <th>36</th>\n",
       "      <td>G6PC3</td>\n",
       "      <td>1301.99</td>\n",
       "      <td>1374.83</td>\n",
       "    </tr>\n",
       "    <tr>\n",
       "      <th>37</th>\n",
       "      <td>PDK2</td>\n",
       "      <td>1535.22</td>\n",
       "      <td>1517.45</td>\n",
       "    </tr>\n",
       "    <tr>\n",
       "      <th>39</th>\n",
       "      <td>MIF4GD</td>\n",
       "      <td>547.28</td>\n",
       "      <td>568.62</td>\n",
       "    </tr>\n",
       "    <tr>\n",
       "      <th>40</th>\n",
       "      <td>ZFP37</td>\n",
       "      <td>81.81</td>\n",
       "      <td>71.49</td>\n",
       "    </tr>\n",
       "    <tr>\n",
       "      <th>41</th>\n",
       "      <td>TUBG1</td>\n",
       "      <td>610.00</td>\n",
       "      <td>646.11</td>\n",
       "    </tr>\n",
       "    <tr>\n",
       "      <th>42</th>\n",
       "      <td>NXNL1</td>\n",
       "      <td>66.18</td>\n",
       "      <td>68.53</td>\n",
       "    </tr>\n",
       "    <tr>\n",
       "      <th>43</th>\n",
       "      <td>CYC1</td>\n",
       "      <td>3046.85</td>\n",
       "      <td>3063.00</td>\n",
       "    </tr>\n",
       "    <tr>\n",
       "      <th>44</th>\n",
       "      <td>ACOT2</td>\n",
       "      <td>4034.02</td>\n",
       "      <td>4043.78</td>\n",
       "    </tr>\n",
       "    <tr>\n",
       "      <th>45</th>\n",
       "      <td>C21orf91</td>\n",
       "      <td>390.53</td>\n",
       "      <td>332.17</td>\n",
       "    </tr>\n",
       "    <tr>\n",
       "      <th>46</th>\n",
       "      <td>LOC102723701</td>\n",
       "      <td>87.30</td>\n",
       "      <td>86.74</td>\n",
       "    </tr>\n",
       "    <tr>\n",
       "      <th>47</th>\n",
       "      <td>C16orf95-DT</td>\n",
       "      <td>59.81</td>\n",
       "      <td>65.90</td>\n",
       "    </tr>\n",
       "    <tr>\n",
       "      <th>48</th>\n",
       "      <td>TGIF1</td>\n",
       "      <td>743.74</td>\n",
       "      <td>810.29</td>\n",
       "    </tr>\n",
       "    <tr>\n",
       "      <th>49</th>\n",
       "      <td>KIF3A</td>\n",
       "      <td>248.34</td>\n",
       "      <td>226.45</td>\n",
       "    </tr>\n",
       "    <tr>\n",
       "      <th>50</th>\n",
       "      <td>PPP1R16A</td>\n",
       "      <td>1076.61</td>\n",
       "      <td>1153.12</td>\n",
       "    </tr>\n",
       "    <tr>\n",
       "      <th>51</th>\n",
       "      <td>ZNF614</td>\n",
       "      <td>233.79</td>\n",
       "      <td>220.58</td>\n",
       "    </tr>\n",
       "    <tr>\n",
       "      <th>52</th>\n",
       "      <td>ADIRF</td>\n",
       "      <td>10969.78</td>\n",
       "      <td>11610.39</td>\n",
       "    </tr>\n",
       "    <tr>\n",
       "      <th>53</th>\n",
       "      <td>ZC3H12C</td>\n",
       "      <td>349.66</td>\n",
       "      <td>389.07</td>\n",
       "    </tr>\n",
       "    <tr>\n",
       "      <th>54</th>\n",
       "      <td>NREP</td>\n",
       "      <td>640.67</td>\n",
       "      <td>643.74</td>\n",
       "    </tr>\n",
       "    <tr>\n",
       "      <th>55</th>\n",
       "      <td>B3GNT2</td>\n",
       "      <td>588.33</td>\n",
       "      <td>583.83</td>\n",
       "    </tr>\n",
       "  </tbody>\n",
       "</table>\n",
       "</div>"
      ],
      "text/plain": [
       "     Gene.symbol  baseMean_x  baseMean_y\n",
       "0       MTRNR2L8     4410.20       48.85\n",
       "1          NR4A2     2583.73      598.12\n",
       "2           ATF3     2984.78      653.81\n",
       "3          HBEGF      619.10      248.16\n",
       "4         ABHD13      512.64      453.31\n",
       "5           EGR3     1060.53      240.81\n",
       "6      LINC01088       38.52       27.62\n",
       "7          DDX3X     6449.04     4745.26\n",
       "8   LOC101928953      247.63      267.85\n",
       "9           IL1B      273.36      113.30\n",
       "10          PDP1      523.96      469.37\n",
       "11      PPP1R15B     1921.14     1463.44\n",
       "12       PPP2R2B       39.70       42.04\n",
       "13  LOC107986924      115.08       34.92\n",
       "14    BABAM2-AS1      281.99       99.74\n",
       "15  LOC105373974      148.15      162.56\n",
       "16  LOC105371622      118.29      126.27\n",
       "17          OGG1      657.49      682.98\n",
       "18        TMEM52       43.76       49.80\n",
       "19         LAMC2      203.18      236.47\n",
       "20        BCKDHA     1838.22     1819.25\n",
       "21        FAHD2A      868.45      892.70\n",
       "23       RASL10B      614.52      624.41\n",
       "24         HDHD5      723.51      731.21\n",
       "25          MAFF     1095.70     1163.40\n",
       "26         SURF6     1023.61      161.18\n",
       "27         FOLR3       23.54      178.05\n",
       "28        TENT5A     1077.49      900.31\n",
       "29          FASN    15160.05    14577.14\n",
       "30       MIR6848      112.48      126.40\n",
       "31       IL18RAP       73.32       60.57\n",
       "32        ZBTB21      355.58      326.86\n",
       "33      IVNS1ABP     1788.95     1919.69\n",
       "34         RNF32       43.64       51.13\n",
       "35     MIR3677HG       19.98       24.26\n",
       "36         G6PC3     1301.99     1374.83\n",
       "37          PDK2     1535.22     1517.45\n",
       "39        MIF4GD      547.28      568.62\n",
       "40         ZFP37       81.81       71.49\n",
       "41         TUBG1      610.00      646.11\n",
       "42         NXNL1       66.18       68.53\n",
       "43          CYC1     3046.85     3063.00\n",
       "44         ACOT2     4034.02     4043.78\n",
       "45      C21orf91      390.53      332.17\n",
       "46  LOC102723701       87.30       86.74\n",
       "47   C16orf95-DT       59.81       65.90\n",
       "48         TGIF1      743.74      810.29\n",
       "49         KIF3A      248.34      226.45\n",
       "50      PPP1R16A     1076.61     1153.12\n",
       "51        ZNF614      233.79      220.58\n",
       "52         ADIRF    10969.78    11610.39\n",
       "53       ZC3H12C      349.66      389.07\n",
       "54          NREP      640.67      643.74\n",
       "55        B3GNT2      588.33      583.83"
      ]
     },
     "execution_count": 16,
     "metadata": {},
     "output_type": "execute_result"
    }
   ],
   "source": [
    "merged_ob_t2d = ob_T.merge(t2d_T, on=\"Gene.symbol\", how=\"inner\").drop_duplicates('Gene.symbol')\n",
    "df = merged_ob_t2d[[\"Gene.symbol\", \"baseMean_x\", \"baseMean_y\"]].dropna()\n",
    "df"
   ]
  },
  {
   "cell_type": "markdown",
   "metadata": {},
   "source": [
    "Performing k-means cluster to identify useful clusters:"
   ]
  },
  {
   "cell_type": "code",
   "execution_count": 19,
   "metadata": {},
   "outputs": [
    {
     "name": "stdout",
     "output_type": "stream",
     "text": [
      "[[ 4410.2     48.85]\n",
      " [ 2583.73   598.12]\n",
      " [ 2984.78   653.81]\n",
      " [  619.1    248.16]\n",
      " [  512.64   453.31]\n",
      " [ 1060.53   240.81]\n",
      " [   38.52    27.62]\n",
      " [ 6449.04  4745.26]\n",
      " [  247.63   267.85]\n",
      " [  273.36   113.3 ]\n",
      " [  523.96   469.37]\n",
      " [ 1921.14  1463.44]\n",
      " [   39.7     42.04]\n",
      " [  115.08    34.92]\n",
      " [  281.99    99.74]\n",
      " [  148.15   162.56]\n",
      " [  118.29   126.27]\n",
      " [  657.49   682.98]\n",
      " [   43.76    49.8 ]\n",
      " [  203.18   236.47]\n",
      " [ 1838.22  1819.25]\n",
      " [  868.45   892.7 ]\n",
      " [  614.52   624.41]\n",
      " [  723.51   731.21]\n",
      " [ 1095.7   1163.4 ]\n",
      " [ 1023.61   161.18]\n",
      " [   23.54   178.05]\n",
      " [ 1077.49   900.31]\n",
      " [15160.05 14577.14]\n",
      " [  112.48   126.4 ]\n",
      " [   73.32    60.57]\n",
      " [  355.58   326.86]\n",
      " [ 1788.95  1919.69]\n",
      " [   43.64    51.13]\n",
      " [   19.98    24.26]\n",
      " [ 1301.99  1374.83]\n",
      " [ 1535.22  1517.45]\n",
      " [  547.28   568.62]\n",
      " [   81.81    71.49]\n",
      " [  610.     646.11]\n",
      " [   66.18    68.53]\n",
      " [ 3046.85  3063.  ]\n",
      " [ 4034.02  4043.78]\n",
      " [  390.53   332.17]\n",
      " [   87.3     86.74]\n",
      " [   59.81    65.9 ]\n",
      " [  743.74   810.29]\n",
      " [  248.34   226.45]\n",
      " [ 1076.61  1153.12]\n",
      " [  233.79   220.58]\n",
      " [10969.78 11610.39]\n",
      " [  349.66   389.07]\n",
      " [  640.67   643.74]\n",
      " [  588.33   583.83]]\n",
      "[4 4 4 0 0 0 0 2 0 0 0 4 0 0 0 0 0 0 0 0 4 0 0 0 0 0 0 0 3 0 0 0 4 0 0 4 4\n",
      " 0 0 0 0 4 2 0 0 0 0 0 0 0 1 0 0 0]\n"
     ]
    },
    {
     "data": {
      "image/png": "[encoded data removed]",
      "text/plain": [
       "<Figure size 432x288 with 1 Axes>"
      ]
     },
     "metadata": {
      "needs_background": "light"
     },
     "output_type": "display_data"
    }
   ],
   "source": [
    "data = df.set_index('Gene.symbol').values\n",
    "print(data)\n",
    "from sklearn.preprocessing import StandardScaler\n",
    "from sklearn.cluster import KMeans\n",
    "import matplotlib.pyplot as plt\n",
    "\n",
    "scaler = StandardScaler()\n",
    "# scaled_data = scaler.fit_transform(data)\n",
    "scaled_data = data\n",
    "\n",
    "num_clusters = 5\n",
    "kmeans = KMeans(n_clusters=num_clusters, random_state=42)\n",
    "cluster_assignments = kmeans.fit_predict(scaled_data)\n",
    "\n",
    "print(cluster_assignments)\n",
    "# Step 4: Visualization\n",
    "# Scatter plot of the first two principal components (for visualization)\n",
    "plt.scatter(scaled_data[:, 0], scaled_data[:, 1], c=cluster_assignments, cmap='viridis')\n",
    "plt.xlabel('X')\n",
    "plt.ylabel('Y')\n",
    "plt.title('K-means Clustering of Genes according to their expression in similar diseases')\n",
    "plt.show()"
   ]
  }
 ],
 "metadata": {
  "kernelspec": {
   "display_name": "Python 3",
   "language": "python",
   "name": "python3"
  },
  "language_info": {
   "codemirror_mode": {
    "name": "ipython",
    "version": 3
   },
   "file_extension": ".py",
   "mimetype": "text/x-python",
   "name": "python",
   "nbconvert_exporter": "python",
   "pygments_lexer": "ipython3",
   "version": "3.9.6"
  },
  "orig_nbformat": 4
 },
 "nbformat": 4,
 "nbformat_minor": 2
}
